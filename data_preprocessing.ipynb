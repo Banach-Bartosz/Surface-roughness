{
 "cells": [
  {
   "cell_type": "code",
   "execution_count": null,
   "id": "d7ebe1925f40d845",
   "metadata": {
    "ExecuteTime": {
     "end_time": "2025-07-23T19:51:57.015952Z",
     "start_time": "2025-07-23T19:51:57.008806Z"
    }
   },
   "outputs": [],
   "source": [
    "import pandas as pd\n",
    "import sqlite3\n",
    "import seaborn as sns\n",
    "import matplotlib.pyplot as plt\n",
    "from sklearn.preprocessing import StandardScaler"
   ]
  },
  {
   "cell_type": "code",
   "execution_count": 16,
   "id": "df0ebcd133d86df",
   "metadata": {
    "ExecuteTime": {
     "end_time": "2025-07-23T19:52:15.095254Z",
     "start_time": "2025-07-23T19:52:15.087097Z"
    }
   },
   "outputs": [
    {
     "name": "stdout",
     "output_type": "stream",
     "text": [
      "  Position    ap   vc  feed     Ra\n",
      "0        a  0.25  350  0.07  0.391\n",
      "1        a  0.25  350  0.07  0.359\n",
      "2        a  0.25  350  0.07  0.421\n",
      "3        a  0.25  350  0.07  0.450\n",
      "4        a  0.25  350  0.07  0.360\n",
      "    Position   ap   vc  feed     Ra\n",
      "319        i  0.8  390   0.1  0.597\n",
      "320        i  0.8  390   0.1  0.610\n",
      "321        i  0.8  390   0.1  0.569\n",
      "322        i  0.8  390   0.1  0.592\n",
      "323        i  0.8  390   0.1  0.579\n"
     ]
    }
   ],
   "source": [
    "df = pd.read_csv('Exp1.csv')\n",
    "\n",
    "df_copy = df.copy()\n",
    "df_copy.drop(['Run_ID', 'Experiment', 'Replica', 'Tool_ID', 'Group', 'Subgroup',\n",
    "           'Condition', 'TCond',\n",
    "           'Machined_length', 'Init_diameter', 'Final_diameter', 'CTime', 'R_measurement','Rsk','Rku','RSm','Rt','Fx','Fy','Fz','F','Rz'],axis=1, inplace=True)\n",
    "print(df_copy.head())\n",
    "print(df_copy.tail())"
   ]
  },
  {
   "cell_type": "code",
   "execution_count": 23,
   "id": "6de1bb83",
   "metadata": {},
   "outputs": [
    {
     "name": "stdout",
     "output_type": "stream",
     "text": [
      "  Position    ap   vc  feed     Ra\n",
      "0        a  0.25  350  0.07  0.391\n",
      "1        a  0.25  350  0.07  0.359\n",
      "2        a  0.25  350  0.07  0.421\n",
      "3        a  0.25  350  0.07  0.450\n",
      "4        a  0.25  350  0.07  0.360\n",
      "5        a  0.25  350  0.07  0.383\n"
     ]
    }
   ],
   "source": [
    "# Filtrowanie danych – tylko tam, gdzie w kolumnie 'position' jest 'a'\n",
    "filtered_df = df_copy[    (df_copy[\"Position\"] == \"a\") &\n",
    "    (df_copy[\"ap\"] == 0.25) &\n",
    "    (df_copy[\"vc\"] == 350) &\n",
    "    (df_copy[\"feed\"] == 0.07)]\n",
    "\n",
    "# Ustawienie, by Pandas wyświetlał wszystkie wiersze (opcjonalnie)\n",
    "pd.set_option('display.max_rows', None)\n",
    "\n",
    "# Wyświetlenie tabeli\n",
    "print(filtered_df)"
   ]
  },
  {
   "cell_type": "code",
   "execution_count": 26,
   "id": "206b3e5b",
   "metadata": {},
   "outputs": [
    {
     "name": "stdout",
     "output_type": "stream",
     "text": [
      "   Position    ap   vc  feed        Ra\n",
      "0         a  0.25  350  0.07  0.394000\n",
      "1         a  0.25  350  0.10  1.047833\n",
      "2         a  0.50  310  0.10  0.907000\n",
      "3         a  0.80  310  0.10  0.963000\n",
      "4         a  0.80  350  0.07  0.377500\n",
      "5         b  0.25  350  0.13  1.454583\n",
      "6         b  0.50  310  0.07  0.269167\n",
      "7         b  0.50  310  0.13  1.123833\n",
      "8         b  0.80  310  0.07  0.652000\n",
      "9         b  0.80  350  0.13  1.420500\n",
      "10        c  0.25  350  0.07  0.633167\n",
      "11        c  0.25  350  0.10  0.638500\n",
      "12        c  0.50  310  0.07  0.449833\n",
      "13        c  0.50  310  0.13  1.105167\n",
      "14        c  0.80  310  0.13  0.928500\n",
      "15        c  0.80  350  0.10  0.825833\n",
      "16        d  0.25  390  0.10  0.717333\n",
      "17        d  0.25  390  0.13  1.263833\n",
      "18        d  0.50  310  0.10  0.517500\n",
      "19        d  0.50  350  0.13  0.968000\n",
      "20        d  0.80  350  0.07  0.569667\n",
      "21        d  0.80  390  0.07  0.438667\n",
      "22        e  0.25  390  0.10  0.931167\n",
      "23        e  0.25  390  0.13  1.102833\n",
      "24        e  0.50  350  0.10  0.623833\n",
      "25        e  0.50  390  0.10  0.553500\n",
      "26        e  0.80  350  0.13  0.870500\n",
      "27        e  0.80  390  0.10  0.717167\n",
      "28        f  0.25  390  0.07  0.395833\n",
      "29        f  0.50  350  0.07  0.391333\n",
      "30        f  0.50  390  0.07  0.360167\n",
      "31        f  0.80  350  0.10  0.679500\n",
      "32        f  0.80  390  0.13  1.065667\n",
      "33        g  0.25  310  0.10  0.772250\n",
      "34        g  0.50  390  0.07  0.273000\n",
      "35        g  0.50  390  0.13  0.516333\n",
      "36        g  0.80  310  0.13  1.077667\n",
      "37        g  0.80  390  0.07  0.467500\n",
      "38        h  0.25  310  0.07  0.233833\n",
      "39        h  0.25  310  0.13  1.167000\n",
      "40        h  0.50  350  0.10  0.607500\n",
      "41        h  0.50  390  0.10  0.398167\n",
      "42        h  0.80  310  0.07  0.384667\n",
      "43        h  0.80  390  0.13  0.835333\n",
      "44        i  0.25  310  0.07  0.391333\n",
      "45        i  0.25  310  0.13  0.829833\n",
      "46        i  0.50  350  0.13  0.540833\n",
      "47        i  0.50  390  0.13  0.667833\n",
      "48        i  0.80  310  0.10  0.606667\n",
      "49        i  0.80  390  0.10  0.580833\n",
      "50        j  0.50  350  0.07  0.311667\n"
     ]
    }
   ],
   "source": [
    "# Grupowanie po parametrach i uśrednianie Ra\n",
    "aggregated_df = df_copy.groupby([\"Position\", \"ap\", \"vc\", \"feed\"], as_index=False)[\"Ra\"].mean()\n",
    "\n",
    "# Podgląd wyniku\n",
    "print(aggregated_df)"
   ]
  },
  {
   "cell_type": "code",
   "execution_count": 30,
   "id": "bcaad7d4",
   "metadata": {},
   "outputs": [
    {
     "name": "stdout",
     "output_type": "stream",
     "text": [
      "   Position    ap   vc  feed        Ra\n",
      "0         a  0.25  350  0.07  0.394000\n",
      "1         a  0.25  350  0.10  1.047833\n",
      "5         b  0.25  350  0.13  1.454583\n",
      "10        c  0.25  350  0.07  0.633167\n",
      "11        c  0.25  350  0.10  0.638500\n",
      "16        d  0.25  390  0.10  0.717333\n",
      "17        d  0.25  390  0.13  1.263833\n",
      "22        e  0.25  390  0.10  0.931167\n",
      "23        e  0.25  390  0.13  1.102833\n",
      "28        f  0.25  390  0.07  0.395833\n",
      "33        g  0.25  310  0.10  0.772250\n",
      "38        h  0.25  310  0.07  0.233833\n",
      "39        h  0.25  310  0.13  1.167000\n",
      "44        i  0.25  310  0.07  0.391333\n",
      "45        i  0.25  310  0.13  0.829833\n"
     ]
    }
   ],
   "source": [
    "# Filtrowanie danych – tylko tam, gdzie w kolumnie 'position' jest 'a'\n",
    "filtered_df_2 = aggregated_df[\n",
    "    (aggregated_df[\"ap\"] == 0.25)]\n",
    "\n",
    "# Ustawienie, by Pandas wyświetlał wszystkie wiersze (opcjonalnie)\n",
    "pd.set_option('display.max_rows', None)\n",
    "\n",
    "# Wyświetlenie tabeli\n",
    "print(filtered_df_2)"
   ]
  },
  {
   "cell_type": "code",
   "execution_count": null,
   "id": "83cc2d8c13f52c61",
   "metadata": {
    "ExecuteTime": {
     "end_time": "2025-07-23T19:52:15.231849Z",
     "start_time": "2025-07-23T19:52:15.226795Z"
    }
   },
   "outputs": [],
   "source": [
    "# zamiana typu danych w kolumnach?\n",
    "for col in columns_to_use:\n",
    "    df[col] = pd.to_numeric(df[col], errors=\"coerce\")"
   ]
  },
  {
   "cell_type": "code",
   "execution_count": null,
   "id": "dd85d6e94c8c2e0d",
   "metadata": {
    "ExecuteTime": {
     "end_time": "2025-07-23T19:52:15.403665Z",
     "start_time": "2025-07-23T19:52:15.396996Z"
    }
   },
   "outputs": [],
   "source": [
    "# usuwanie?\n",
    "df = df.dropna()"
   ]
  },
  {
   "cell_type": "code",
   "execution_count": 11,
   "id": "9b3ec20b98b64646",
   "metadata": {
    "ExecuteTime": {
     "end_time": "2025-07-23T19:52:15.825036Z",
     "start_time": "2025-07-23T19:52:15.570328Z"
    }
   },
   "outputs": [
    {
     "data": {
      "image/png": "[encoded data removed]",
      "text/plain": [
       "<Figure size 800x600 with 2 Axes>"
      ]
     },
     "metadata": {},
     "output_type": "display_data"
    }
   ],
   "source": [
    "# correlation matrix on original (unscaled) data\n",
    "corr_matrix_orig = df.corr()\n",
    "\n",
    "# plot heatmap\n",
    "plt.figure(figsize=(8, 6))\n",
    "sns.heatmap(corr_matrix_orig, annot=True, cmap='coolwarm', fmt=\".2f\", square=True)\n",
    "plt.title(\"Correlation Matrix Heatmap – Original Data\")\n",
    "plt.tight_layout()\n",
    "plt.show()\n"
   ]
  },
  {
   "cell_type": "code",
   "execution_count": null,
   "id": "d88ae9b22ef7a0fa",
   "metadata": {
    "ExecuteTime": {
     "end_time": "2025-07-23T19:52:16.326150Z",
     "start_time": "2025-07-23T19:52:15.827043Z"
    }
   },
   "outputs": [],
   "source": [
    "# wyszukiwanie outlierow\n",
    "for col in [\"ap\", \"vc\", \"feed\", \"Ra\"]:\n",
    "    sns.boxplot(x=df[col])\n",
    "    plt.title(f\"Boxplot – {col}\")\n",
    "    plt.show()"
   ]
  },
  {
   "cell_type": "code",
   "execution_count": null,
   "id": "de72b3ea8f8c5de5",
   "metadata": {
    "ExecuteTime": {
     "end_time": "2025-07-23T19:52:00.125064Z",
     "start_time": "2025-07-23T19:51:59.394222Z"
    }
   },
   "outputs": [],
   "source": [
    "# skalowanie danych?\n",
    "scaler = StandardScaler()\n",
    "X_scaled = scaler.fit_transform(df[[\"ap\", \"vc\", \"feed\"]])"
   ]
  },
  {
   "cell_type": "code",
   "execution_count": null,
   "id": "229000cc6f60b5d2",
   "metadata": {},
   "outputs": [],
   "source": [
    "# nowy df\n",
    "df_scaled = pd.DataFrame(X_scaled, columns=[\"ap_scaled\", \"vc_scaled\", \"feed_scaled\"])\n",
    "df_scaled[\"Ra\"] = df[\"Ra\"].values"
   ]
  },
  {
   "cell_type": "code",
   "execution_count": null,
   "id": "initial_id",
   "metadata": {
    "collapsed": true
   },
   "outputs": [],
   "source": [
    "# zapis\n",
    "conn = sqlite3.connect('SurfaceEXP1.db')  # dodaj rozszerzenie .db (zalecane)\n",
    "df_scaled.to_sql('SurfaceEXP1', conn, if_exists='replace', index=False)\n",
    "conn.close()"
   ]
  },
  {
   "cell_type": "code",
   "execution_count": null,
   "id": "621722560c8ce41b",
   "metadata": {},
   "outputs": [],
   "source": []
  }
 ],
 "metadata": {
  "kernelspec": {
   "display_name": "Python 3",
   "language": "python",
   "name": "python3"
  },
  "language_info": {
   "codemirror_mode": {
    "name": "ipython",
    "version": 3
   },
   "file_extension": ".py",
   "mimetype": "text/x-python",
   "name": "python",
   "nbconvert_exporter": "python",
   "pygments_lexer": "ipython3",
   "version": "3.13.2"
  }
 },
 "nbformat": 4,
 "nbformat_minor": 5
}
